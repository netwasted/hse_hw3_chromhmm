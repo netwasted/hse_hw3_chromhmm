{
  "nbformat": 4,
  "nbformat_minor": 0,
  "metadata": {
    "colab": {
      "name": "DZ3.ipynb",
      "provenance": [],
      "collapsed_sections": []
    },
    "kernelspec": {
      "name": "python3",
      "display_name": "Python 3"
    },
    "language_info": {
      "name": "python"
    }
  },
  "cells": [
    {
      "cell_type": "markdown",
      "source": [
        "# Устанавливаем java и ChromHmm"
      ],
      "metadata": {
        "id": "vRciyzvPEDLD"
      }
    },
    {
      "cell_type": "code",
      "source": [
        "!curl -O https://raw.githubusercontent.com/deepjavalibrary/d2l-java/master/tools/fix-colab-gpu.sh && bash fix-colab-gpu.sh"
      ],
      "metadata": {
        "colab": {
          "base_uri": "https://localhost:8080/"
        },
        "id": "1O3GJ3Gys7Tm",
        "outputId": "17018001-a23a-44de-edd7-841a9c39b1e9"
      },
      "execution_count": 1,
      "outputs": [
        {
          "output_type": "stream",
          "name": "stdout",
          "text": [
            "  % Total    % Received % Xferd  Average Speed   Time    Time     Time  Current\n",
            "                                 Dload  Upload   Total   Spent    Left  Speed\n",
            "100   155  100   155    0     0   1165      0 --:--:-- --:--:-- --:--:--  1165\n",
            "nvcc: NVIDIA (R) Cuda compiler driver\n",
            "Copyright (c) 2005-2019 NVIDIA Corporation\n",
            "Built on Sun_Jul_28_19:07:16_PDT_2019\n",
            "Cuda compilation tools, release 10.1, V10.1.243\n"
          ]
        }
      ]
    },
    {
      "cell_type": "code",
      "execution_count": 2,
      "metadata": {
        "colab": {
          "base_uri": "https://localhost:8080/"
        },
        "id": "NxS1Mv5WquOV",
        "outputId": "dbd45e33-d79a-48fc-dc18-d8725e0a18e6"
      },
      "outputs": [
        {
          "output_type": "stream",
          "name": "stdout",
          "text": [
            "  % Total    % Received % Xferd  Average Speed   Time    Time     Time  Current\n",
            "                                 Dload  Upload   Total   Spent    Left  Speed\n",
            "\r  0     0    0     0    0     0      0      0 --:--:-- --:--:-- --:--:--     0\r100   520  100   520    0     0   3880      0 --:--:-- --:--:-- --:--:--  3880\n",
            "Update environment...\n",
            "Install Java...\n",
            "Install Jupyter java kernel...\n"
          ]
        }
      ],
      "source": [
        "!curl -O https://raw.githubusercontent.com/deepjavalibrary/d2l-java/master/tools/colab_build.sh && bash colab_build.sh"
      ]
    },
    {
      "cell_type": "code",
      "source": [
        "!java --list-modules | grep \"jdk.jshell\"\n"
      ],
      "metadata": {
        "colab": {
          "base_uri": "https://localhost:8080/"
        },
        "id": "_NrPS924rQFX",
        "outputId": "39d0c47b-23e5-4129-afe0-bfc31e2fbe98"
      },
      "execution_count": 3,
      "outputs": [
        {
          "output_type": "stream",
          "name": "stdout",
          "text": [
            "jdk.jshell@11.0.14\n"
          ]
        }
      ]
    },
    {
      "cell_type": "code",
      "source": [
        "! wget http://compbio.mit.edu/ChromHMM/ChromHMM.zip"
      ],
      "metadata": {
        "colab": {
          "base_uri": "https://localhost:8080/"
        },
        "id": "zCdYYvCJrpRt",
        "outputId": "55072be6-53be-4e03-da0e-b9ccb5ae3cbf"
      },
      "execution_count": 4,
      "outputs": [
        {
          "output_type": "stream",
          "name": "stdout",
          "text": [
            "--2022-03-25 07:32:35--  http://compbio.mit.edu/ChromHMM/ChromHMM.zip\n",
            "Resolving compbio.mit.edu (compbio.mit.edu)... 128.30.2.44\n",
            "Connecting to compbio.mit.edu (compbio.mit.edu)|128.30.2.44|:80... connected.\n",
            "HTTP request sent, awaiting response... 200 OK\n",
            "Length: 42396742 (40M) [application/zip]\n",
            "Saving to: ‘ChromHMM.zip’\n",
            "\n",
            "ChromHMM.zip        100%[===================>]  40.43M  10.2MB/s    in 4.2s    \n",
            "\n",
            "2022-03-25 07:32:39 (9.63 MB/s) - ‘ChromHMM.zip’ saved [42396742/42396742]\n",
            "\n"
          ]
        }
      ]
    },
    {
      "cell_type": "code",
      "source": [
        "!unzip /content/ChromHMM.zip"
      ],
      "metadata": {
        "id": "gF4uI2bvvEN2",
        "colab": {
          "base_uri": "https://localhost:8080/"
        },
        "outputId": "ecababb6-8fb0-4e31-e156-5bec1bdc72a1"
      },
      "execution_count": 5,
      "outputs": [
        {
          "output_type": "stream",
          "name": "stdout",
          "text": [
            "Archive:  /content/ChromHMM.zip\n",
            "   creating: ChromHMM/ANCHORFILES/\n",
            "   creating: ChromHMM/ANCHORFILES/ce10/\n",
            "  inflating: ChromHMM/ANCHORFILES/ce10/RefSeqTES.ce10.txt.gz  \n",
            "  inflating: ChromHMM/ANCHORFILES/ce10/RefSeqTSS.ce10.txt.gz  \n",
            "   creating: ChromHMM/ANCHORFILES/ce11/\n",
            "  inflating: ChromHMM/ANCHORFILES/ce11/RefSeqTES.ce11.txt.gz  \n",
            "  inflating: ChromHMM/ANCHORFILES/ce11/RefSeqTSS.ce11.txt.gz  \n",
            "   creating: ChromHMM/ANCHORFILES/ce6/\n",
            "  inflating: ChromHMM/ANCHORFILES/ce6/RefSeqTES.ce6.txt.gz  \n",
            "  inflating: ChromHMM/ANCHORFILES/ce6/RefSeqTSS.ce6.txt.gz  \n",
            "   creating: ChromHMM/ANCHORFILES/danRer10/\n",
            "  inflating: ChromHMM/ANCHORFILES/danRer10/RefSeqTES.danRer10.txt.gz  \n",
            "  inflating: ChromHMM/ANCHORFILES/danRer10/RefSeqTSS.danRer10.txt.gz  \n",
            "   creating: ChromHMM/ANCHORFILES/danRer11/\n",
            "  inflating: ChromHMM/ANCHORFILES/danRer11/RefSeqTES.danRer11.txt.gz  \n",
            "  inflating: ChromHMM/ANCHORFILES/danRer11/RefSeqTSS.danRer11.txt.gz  \n",
            "   creating: ChromHMM/ANCHORFILES/danRer7/\n",
            "  inflating: ChromHMM/ANCHORFILES/danRer7/RefSeqTES.danRer7.txt.gz  \n",
            "  inflating: ChromHMM/ANCHORFILES/danRer7/RefSeqTSS.danRer7.txt.gz  \n",
            "   creating: ChromHMM/ANCHORFILES/dm3/\n",
            "  inflating: ChromHMM/ANCHORFILES/dm3/RefSeqTES.dm3.txt.gz  \n",
            "  inflating: ChromHMM/ANCHORFILES/dm3/RefSeqTSS.dm3.txt.gz  \n",
            "   creating: ChromHMM/ANCHORFILES/dm6/\n",
            "  inflating: ChromHMM/ANCHORFILES/dm6/RefSeqTES.dm6.txt.gz  \n",
            "  inflating: ChromHMM/ANCHORFILES/dm6/RefSeqTSS.dm6.txt.gz  \n",
            "   creating: ChromHMM/ANCHORFILES/hg18/\n",
            "  inflating: ChromHMM/ANCHORFILES/hg18/RefSeqTES.hg18.txt.gz  \n",
            "  inflating: ChromHMM/ANCHORFILES/hg18/RefSeqTSS.hg18.txt.gz  \n",
            "   creating: ChromHMM/ANCHORFILES/hg19/\n",
            "  inflating: ChromHMM/ANCHORFILES/hg19/RefSeqTES.hg19.txt.gz  \n",
            "  inflating: ChromHMM/ANCHORFILES/hg19/RefSeqTSS.hg19.txt.gz  \n",
            "   creating: ChromHMM/ANCHORFILES/hg38/\n",
            "  inflating: ChromHMM/ANCHORFILES/hg38/RefSeqTES.hg38.txt.gz  \n",
            "  inflating: ChromHMM/ANCHORFILES/hg38/RefSeqTSS.hg38.txt.gz  \n",
            "   creating: ChromHMM/ANCHORFILES/mm10/\n",
            "  inflating: ChromHMM/ANCHORFILES/mm10/RefSeqTES.mm10.txt.gz  \n",
            "  inflating: ChromHMM/ANCHORFILES/mm10/RefSeqTSS.mm10.txt.gz  \n",
            "   creating: ChromHMM/ANCHORFILES/mm9/\n",
            "  inflating: ChromHMM/ANCHORFILES/mm9/RefSeqTES.mm9.txt.gz  \n",
            "  inflating: ChromHMM/ANCHORFILES/mm9/RefSeqTSS.mm9.txt.gz  \n",
            "   creating: ChromHMM/ANCHORFILES/rn5/\n",
            "  inflating: ChromHMM/ANCHORFILES/rn5/RefSeqTES.rn5.txt.gz  \n",
            "  inflating: ChromHMM/ANCHORFILES/rn5/RefSeqTSS.rn5.txt.gz  \n",
            "   creating: ChromHMM/ANCHORFILES/rn6/\n",
            "  inflating: ChromHMM/ANCHORFILES/rn6/RefSeqTES.rn6.txt.gz  \n",
            "  inflating: ChromHMM/ANCHORFILES/rn6/RefSeqTSS.rn6.txt.gz  \n",
            "  inflating: ChromHMM/ChromHMM.jar   \n",
            "  inflating: ChromHMM/ChromHMM_manual.pdf  \n",
            "   creating: ChromHMM/CHROMSIZES/\n",
            "  inflating: ChromHMM/CHROMSIZES/ce10.txt  \n",
            "  inflating: ChromHMM/CHROMSIZES/ce11.txt  \n",
            "  inflating: ChromHMM/CHROMSIZES/ce6.txt  \n",
            "  inflating: ChromHMM/CHROMSIZES/danRer10.txt  \n",
            "  inflating: ChromHMM/CHROMSIZES/danRer11.txt  \n",
            "  inflating: ChromHMM/CHROMSIZES/danRer7.txt  \n",
            "  inflating: ChromHMM/CHROMSIZES/dm3.txt  \n",
            "  inflating: ChromHMM/CHROMSIZES/dm6.txt  \n",
            "  inflating: ChromHMM/CHROMSIZES/hg18.txt  \n",
            "  inflating: ChromHMM/CHROMSIZES/hg19.txt  \n",
            "  inflating: ChromHMM/CHROMSIZES/hg38.txt  \n",
            "  inflating: ChromHMM/CHROMSIZES/mm10.txt  \n",
            "  inflating: ChromHMM/CHROMSIZES/mm9.txt  \n",
            "  inflating: ChromHMM/CHROMSIZES/rn5.txt  \n",
            "  inflating: ChromHMM/CHROMSIZES/rn6.txt  \n",
            "   creating: ChromHMM/COORDS/\n",
            "   creating: ChromHMM/COORDS/ce10/\n",
            "  inflating: ChromHMM/COORDS/ce10/RefSeqExon.ce10.bed.gz  \n",
            "  inflating: ChromHMM/COORDS/ce10/RefSeqGene.ce10.bed.gz  \n",
            "  inflating: ChromHMM/COORDS/ce10/RefSeqTES.ce10.bed.gz  \n",
            "  inflating: ChromHMM/COORDS/ce10/RefSeqTSS.ce10.bed.gz  \n",
            "  inflating: ChromHMM/COORDS/ce10/RefSeqTSS2kb.ce10.bed.gz  \n",
            "   creating: ChromHMM/COORDS/ce11/\n",
            "  inflating: ChromHMM/COORDS/ce11/RefSeqExon.ce11.bed.gz  \n",
            "  inflating: ChromHMM/COORDS/ce11/RefSeqGene.ce11.bed.gz  \n",
            "  inflating: ChromHMM/COORDS/ce11/RefSeqTES.ce11.bed.gz  \n",
            "  inflating: ChromHMM/COORDS/ce11/RefSeqTSS.ce11.bed.gz  \n",
            "  inflating: ChromHMM/COORDS/ce11/RefSeqTSS2kb.ce11.bed.gz  \n",
            "   creating: ChromHMM/COORDS/ce6/\n",
            "  inflating: ChromHMM/COORDS/ce6/RefSeqExon.ce6.bed.gz  \n",
            "  inflating: ChromHMM/COORDS/ce6/RefSeqGene.ce6.bed.gz  \n",
            "  inflating: ChromHMM/COORDS/ce6/RefSeqTES.ce6.bed.gz  \n",
            "  inflating: ChromHMM/COORDS/ce6/RefSeqTSS.ce6.bed.gz  \n",
            "  inflating: ChromHMM/COORDS/ce6/RefSeqTSS2kb.ce6.bed.gz  \n",
            "   creating: ChromHMM/COORDS/danRer10/\n",
            "  inflating: ChromHMM/COORDS/danRer10/RefSeqExon.danRer10.bed.gz  \n",
            "  inflating: ChromHMM/COORDS/danRer10/RefSeqGene.danRer10.bed.gz  \n",
            "  inflating: ChromHMM/COORDS/danRer10/RefSeqTES.danRer10.bed.gz  \n",
            "  inflating: ChromHMM/COORDS/danRer10/RefSeqTSS.danRer10.bed.gz  \n",
            "  inflating: ChromHMM/COORDS/danRer10/RefSeqTSS2kb.danRer10.bed.gz  \n",
            "   creating: ChromHMM/COORDS/danRer11/\n",
            "  inflating: ChromHMM/COORDS/danRer11/RefSeqExon.danRer11.bed.gz  \n",
            "  inflating: ChromHMM/COORDS/danRer11/RefSeqGene.danRer11.bed.gz  \n",
            "  inflating: ChromHMM/COORDS/danRer11/RefSeqTES.danRer11.bed.gz  \n",
            "  inflating: ChromHMM/COORDS/danRer11/RefSeqTSS.danRer11.bed.gz  \n",
            "  inflating: ChromHMM/COORDS/danRer11/RefSeqTSS2kb.danRer11.bed.gz  \n",
            "   creating: ChromHMM/COORDS/danRer7/\n",
            "  inflating: ChromHMM/COORDS/danRer7/RefSeqExon.danRer7.bed.gz  \n",
            "  inflating: ChromHMM/COORDS/danRer7/RefSeqGene.danRer7.bed.gz  \n",
            "  inflating: ChromHMM/COORDS/danRer7/RefSeqTES.danRer7.bed.gz  \n",
            "  inflating: ChromHMM/COORDS/danRer7/RefSeqTSS.danRer7.bed.gz  \n",
            "  inflating: ChromHMM/COORDS/danRer7/RefSeqTSS2kb.danRer7.bed.gz  \n",
            "   creating: ChromHMM/COORDS/dm3/\n",
            "  inflating: ChromHMM/COORDS/dm3/RefSeqExon.dm3.bed.gz  \n",
            "  inflating: ChromHMM/COORDS/dm3/RefSeqGene.dm3.bed.gz  \n",
            "  inflating: ChromHMM/COORDS/dm3/RefSeqTES.dm3.bed.gz  \n",
            "  inflating: ChromHMM/COORDS/dm3/RefSeqTSS.dm3.bed.gz  \n",
            "  inflating: ChromHMM/COORDS/dm3/RefSeqTSS2kb.dm3.bed.gz  \n",
            "   creating: ChromHMM/COORDS/dm6/\n",
            "  inflating: ChromHMM/COORDS/dm6/RefSeqExon.dm6.bed.gz  \n",
            "  inflating: ChromHMM/COORDS/dm6/RefSeqGene.dm6.bed.gz  \n",
            "  inflating: ChromHMM/COORDS/dm6/RefSeqTES.dm6.bed.gz  \n",
            "  inflating: ChromHMM/COORDS/dm6/RefSeqTSS.dm6.bed.gz  \n",
            "  inflating: ChromHMM/COORDS/dm6/RefSeqTSS2kb.dm6.bed.gz  \n",
            "   creating: ChromHMM/COORDS/hg18/\n",
            "  inflating: ChromHMM/COORDS/hg18/CpGIsland.hg18.bed.gz  \n",
            " extracting: ChromHMM/COORDS/hg18/laminB1lads.hg18.bed.gz  \n",
            "  inflating: ChromHMM/COORDS/hg18/RefSeqExon.hg18.bed.gz  \n",
            "  inflating: ChromHMM/COORDS/hg18/RefSeqGene.hg18.bed.gz  \n",
            "  inflating: ChromHMM/COORDS/hg18/RefSeqTES.hg18.bed.gz  \n",
            "  inflating: ChromHMM/COORDS/hg18/RefSeqTSS.hg18.bed.gz  \n",
            "  inflating: ChromHMM/COORDS/hg18/RefSeqTSS2kb.hg18.bed.gz  \n",
            "   creating: ChromHMM/COORDS/hg19/\n",
            "  inflating: ChromHMM/COORDS/hg19/CpGIsland.hg19.bed.gz  \n",
            " extracting: ChromHMM/COORDS/hg19/laminB1lads.hg19.bed.gz  \n",
            "  inflating: ChromHMM/COORDS/hg19/RefSeqExon.hg19.bed.gz  \n",
            "  inflating: ChromHMM/COORDS/hg19/RefSeqGene.hg19.bed.gz  \n",
            "  inflating: ChromHMM/COORDS/hg19/RefSeqTES.hg19.bed.gz  \n",
            "  inflating: ChromHMM/COORDS/hg19/RefSeqTSS.hg19.bed.gz  \n",
            "  inflating: ChromHMM/COORDS/hg19/RefSeqTSS2kb.hg19.bed.gz  \n",
            "   creating: ChromHMM/COORDS/hg38/\n",
            "  inflating: ChromHMM/COORDS/hg38/CpGIsland.hg38.bed.gz  \n",
            "  inflating: ChromHMM/COORDS/hg38/RefSeqExon.hg38.bed.gz  \n",
            "  inflating: ChromHMM/COORDS/hg38/RefSeqGene.hg38.bed.gz  \n",
            "  inflating: ChromHMM/COORDS/hg38/RefSeqTES.hg38.bed.gz  \n",
            "  inflating: ChromHMM/COORDS/hg38/RefSeqTSS.hg38.bed.gz  \n",
            "  inflating: ChromHMM/COORDS/hg38/RefSeqTSS2kb.hg38.bed.gz  \n",
            "   creating: ChromHMM/COORDS/mm10/\n",
            "  inflating: ChromHMM/COORDS/mm10/CpGIsland.mm10.bed.gz  \n",
            "  inflating: ChromHMM/COORDS/mm10/RefSeqExon.mm10.bed.gz  \n",
            "  inflating: ChromHMM/COORDS/mm10/RefSeqGene.mm10.bed.gz  \n",
            "  inflating: ChromHMM/COORDS/mm10/RefSeqTES.mm10.bed.gz  \n",
            "  inflating: ChromHMM/COORDS/mm10/RefSeqTSS.mm10.bed.gz  \n",
            "  inflating: ChromHMM/COORDS/mm10/RefSeqTSS2kb.mm10.bed.gz  \n",
            "   creating: ChromHMM/COORDS/mm9/\n",
            "  inflating: ChromHMM/COORDS/mm9/CpGIsland.mm9.bed.gz  \n",
            "  inflating: ChromHMM/COORDS/mm9/RefSeqExon.mm9.bed.gz  \n",
            "  inflating: ChromHMM/COORDS/mm9/RefSeqGene.mm9.bed.gz  \n",
            "  inflating: ChromHMM/COORDS/mm9/RefSeqTES.mm9.bed.gz  \n",
            "  inflating: ChromHMM/COORDS/mm9/RefSeqTSS.mm9.bed.gz  \n",
            "  inflating: ChromHMM/COORDS/mm9/RefSeqTSS2kb.mm9.bed.gz  \n",
            "   creating: ChromHMM/COORDS/rn5/\n",
            "  inflating: ChromHMM/COORDS/rn5/CpGIsland.rn5.bed.gz  \n",
            "  inflating: ChromHMM/COORDS/rn5/RefSeqExon.rn5.bed.gz  \n",
            "  inflating: ChromHMM/COORDS/rn5/RefSeqGene.rn5.bed.gz  \n",
            "  inflating: ChromHMM/COORDS/rn5/RefSeqTES.rn5.bed.gz  \n",
            "  inflating: ChromHMM/COORDS/rn5/RefSeqTSS.rn5.bed.gz  \n",
            "  inflating: ChromHMM/COORDS/rn5/RefSeqTSS2kb.rn5.bed.gz  \n",
            "   creating: ChromHMM/COORDS/rn6/\n",
            "  inflating: ChromHMM/COORDS/rn6/CpGIsland.rn6.bed.gz  \n",
            "  inflating: ChromHMM/COORDS/rn6/RefSeqExon.rn6.bed.gz  \n",
            "  inflating: ChromHMM/COORDS/rn6/RefSeqGene.rn6.bed.gz  \n",
            "  inflating: ChromHMM/COORDS/rn6/RefSeqTES.rn6.bed.gz  \n",
            "  inflating: ChromHMM/COORDS/rn6/RefSeqTSS.rn6.bed.gz  \n",
            "  inflating: ChromHMM/COORDS/rn6/RefSeqTSS2kb.rn6.bed.gz  \n",
            "   creating: ChromHMM/SAMPLEDATA_HG18/\n",
            "  inflating: ChromHMM/SAMPLEDATA_HG18/GM12878_chr11_binary.txt.gz  \n",
            "  inflating: ChromHMM/SAMPLEDATA_HG18/K562_chr11_binary.txt.gz  \n",
            "   creating: ChromHMM/SRC/\n",
            "   creating: ChromHMM/SRC/edu/\n",
            "   creating: ChromHMM/SRC/edu/mit/\n",
            "   creating: ChromHMM/SRC/edu/mit/compbio/\n",
            "   creating: ChromHMM/SRC/edu/mit/compbio/ChromHMM/\n",
            "  inflating: ChromHMM/SRC/edu/mit/compbio/ChromHMM/BrowserOutput.java  \n",
            "  inflating: ChromHMM/SRC/edu/mit/compbio/ChromHMM/ChromHMM.java  \n",
            "  inflating: ChromHMM/SRC/edu/mit/compbio/ChromHMM/ConvertGeneTable.java  \n",
            "  inflating: ChromHMM/SRC/edu/mit/compbio/ChromHMM/NestedEliminateInitialize.java  \n",
            "  inflating: ChromHMM/SRC/edu/mit/compbio/ChromHMM/Preprocessing.java  \n",
            "  inflating: ChromHMM/SRC/edu/mit/compbio/ChromHMM/StateAnalysis.java  \n",
            "  inflating: ChromHMM/SRC/edu/mit/compbio/ChromHMM/Util.java  \n",
            "   creating: ChromHMM/SRC/org/\n",
            "   creating: ChromHMM/SRC/org/tc33/\n",
            "   creating: ChromHMM/SRC/org/tc33/jheatchart/\n",
            "  inflating: ChromHMM/SRC/org/tc33/jheatchart/HeatChart.java  \n"
          ]
        }
      ]
    },
    {
      "cell_type": "markdown",
      "source": [
        "## Скачиваем файлы"
      ],
      "metadata": {
        "id": "k80uGrS5quq1"
      }
    },
    {
      "cell_type": "code",
      "source": [
        "!wget http://hgdownload.cse.ucsc.edu/goldenPath/hg19/encodeDCC/wgEncodeBroadHistone/wgEncodeBroadHistoneK562ControlStdAlnRep1.bam -O K562_control.bam"
      ],
      "metadata": {
        "id": "PSWbbv8wcFUY",
        "colab": {
          "base_uri": "https://localhost:8080/"
        },
        "outputId": "102fa94d-cd36-4f58-a426-b7eb9d628745"
      },
      "execution_count": 6,
      "outputs": [
        {
          "output_type": "stream",
          "name": "stdout",
          "text": [
            "--2022-03-25 08:06:05--  http://hgdownload.cse.ucsc.edu/goldenPath/hg19/encodeDCC/wgEncodeBroadHistone/wgEncodeBroadHistoneK562ControlStdAlnRep1.bam\n",
            "Resolving hgdownload.cse.ucsc.edu (hgdownload.cse.ucsc.edu)... 128.114.119.163\n",
            "Connecting to hgdownload.cse.ucsc.edu (hgdownload.cse.ucsc.edu)|128.114.119.163|:80... connected.\n",
            "HTTP request sent, awaiting response... 200 OK\n",
            "Length: 796317121 (759M) [application/octet-stream]\n",
            "Saving to: ‘K562_control.bam’\n",
            "\n",
            "K562_control.bam    100%[===================>] 759.43M  38.3MB/s    in 21s     \n",
            "\n",
            "2022-03-25 08:06:27 (36.8 MB/s) - ‘K562_control.bam’ saved [796317121/796317121]\n",
            "\n"
          ]
        }
      ]
    },
    {
      "cell_type": "code",
      "source": [
        "!wget http://hgdownload.cse.ucsc.edu/goldenPath/hg19/encodeDCC/wgEncodeBroadHistone/wgEncodeBroadHistoneK562H2azStdAlnRep1.bam -O K562_H2az.bam"
      ],
      "metadata": {
        "colab": {
          "base_uri": "https://localhost:8080/"
        },
        "id": "aoWGeQQ5_ghj",
        "outputId": "f1e5119f-2f4b-4889-f99b-62953a697b7a"
      },
      "execution_count": 7,
      "outputs": [
        {
          "output_type": "stream",
          "name": "stdout",
          "text": [
            "--2022-03-25 08:06:27--  http://hgdownload.cse.ucsc.edu/goldenPath/hg19/encodeDCC/wgEncodeBroadHistone/wgEncodeBroadHistoneK562H2azStdAlnRep1.bam\n",
            "Resolving hgdownload.cse.ucsc.edu (hgdownload.cse.ucsc.edu)... 128.114.119.163\n",
            "Connecting to hgdownload.cse.ucsc.edu (hgdownload.cse.ucsc.edu)|128.114.119.163|:80... connected.\n",
            "HTTP request sent, awaiting response... 200 OK\n",
            "Length: 1044257471 (996M) [application/octet-stream]\n",
            "Saving to: ‘K562_H2az.bam’\n",
            "\n",
            "K562_H2az.bam       100%[===================>] 995.88M  39.7MB/s    in 26s     \n",
            "\n",
            "2022-03-25 08:06:53 (37.9 MB/s) - ‘K562_H2az.bam’ saved [1044257471/1044257471]\n",
            "\n"
          ]
        }
      ]
    },
    {
      "cell_type": "code",
      "source": [
        "!wget http://hgdownload.cse.ucsc.edu/goldenPath/hg19/encodeDCC/wgEncodeBroadHistone/wgEncodeBroadHistoneK562H3k27acStdAlnRep1.bam -O K562_H3k27ac.bam"
      ],
      "metadata": {
        "colab": {
          "base_uri": "https://localhost:8080/"
        },
        "id": "Dt9bhfGG_hJC",
        "outputId": "c70f88f3-4544-4c94-ccb3-82490850e037"
      },
      "execution_count": 8,
      "outputs": [
        {
          "output_type": "stream",
          "name": "stdout",
          "text": [
            "--2022-03-25 08:06:53--  http://hgdownload.cse.ucsc.edu/goldenPath/hg19/encodeDCC/wgEncodeBroadHistone/wgEncodeBroadHistoneK562H3k27acStdAlnRep1.bam\n",
            "Resolving hgdownload.cse.ucsc.edu (hgdownload.cse.ucsc.edu)... 128.114.119.163\n",
            "Connecting to hgdownload.cse.ucsc.edu (hgdownload.cse.ucsc.edu)|128.114.119.163|:80... connected.\n",
            "HTTP request sent, awaiting response... 200 OK\n",
            "Length: 642200453 (612M) [application/octet-stream]\n",
            "Saving to: ‘K562_H3k27ac.bam’\n",
            "\n",
            "K562_H3k27ac.bam    100%[===================>] 612.45M  40.3MB/s    in 16s     \n",
            "\n",
            "2022-03-25 08:07:10 (37.1 MB/s) - ‘K562_H3k27ac.bam’ saved [642200453/642200453]\n",
            "\n"
          ]
        }
      ]
    },
    {
      "cell_type": "code",
      "source": [
        "!wget http://hgdownload.cse.ucsc.edu/goldenPath/hg19/encodeDCC/wgEncodeBroadHistone/wgEncodeBroadHistoneK562H3k27me3StdAlnRep1.bam -O K562_H3k27me3.bam"
      ],
      "metadata": {
        "colab": {
          "base_uri": "https://localhost:8080/"
        },
        "id": "DSqxscy8_hTz",
        "outputId": "1a0764e8-b354-43b2-f353-f9ac8c446c2d"
      },
      "execution_count": 9,
      "outputs": [
        {
          "output_type": "stream",
          "name": "stdout",
          "text": [
            "--2022-03-25 08:07:10--  http://hgdownload.cse.ucsc.edu/goldenPath/hg19/encodeDCC/wgEncodeBroadHistone/wgEncodeBroadHistoneK562H3k27me3StdAlnRep1.bam\n",
            "Resolving hgdownload.cse.ucsc.edu (hgdownload.cse.ucsc.edu)... 128.114.119.163\n",
            "Connecting to hgdownload.cse.ucsc.edu (hgdownload.cse.ucsc.edu)|128.114.119.163|:80... connected.\n",
            "HTTP request sent, awaiting response... 200 OK\n",
            "Length: 543149368 (518M) [application/octet-stream]\n",
            "Saving to: ‘K562_H3k27me3.bam’\n",
            "\n",
            "K562_H3k27me3.bam   100%[===================>] 517.99M  38.8MB/s    in 15s     \n",
            "\n",
            "2022-03-25 08:07:26 (35.1 MB/s) - ‘K562_H3k27me3.bam’ saved [543149368/543149368]\n",
            "\n"
          ]
        }
      ]
    },
    {
      "cell_type": "code",
      "source": [
        "!wget http://hgdownload.cse.ucsc.edu/goldenPath/hg19/encodeDCC/wgEncodeBroadHistone/wgEncodeBroadHistoneK562H3k36me3StdAlnRep1.bam -O K562_H3k36me3.bam"
      ],
      "metadata": {
        "colab": {
          "base_uri": "https://localhost:8080/"
        },
        "id": "grTIvdWO_hwZ",
        "outputId": "fc8f2ac0-1da1-4eb3-f26b-e924d8c117e2"
      },
      "execution_count": 10,
      "outputs": [
        {
          "output_type": "stream",
          "name": "stdout",
          "text": [
            "--2022-03-25 08:07:26--  http://hgdownload.cse.ucsc.edu/goldenPath/hg19/encodeDCC/wgEncodeBroadHistone/wgEncodeBroadHistoneK562H3k36me3StdAlnRep1.bam\n",
            "Resolving hgdownload.cse.ucsc.edu (hgdownload.cse.ucsc.edu)... 128.114.119.163\n",
            "Connecting to hgdownload.cse.ucsc.edu (hgdownload.cse.ucsc.edu)|128.114.119.163|:80... connected.\n",
            "HTTP request sent, awaiting response... 200 OK\n",
            "Length: 785273257 (749M) [application/octet-stream]\n",
            "Saving to: ‘K562_H3k36me3.bam’\n",
            "\n",
            "K562_H3k36me3.bam   100%[===================>] 748.89M  41.1MB/s    in 19s     \n",
            "\n",
            "2022-03-25 08:07:45 (38.8 MB/s) - ‘K562_H3k36me3.bam’ saved [785273257/785273257]\n",
            "\n"
          ]
        }
      ]
    },
    {
      "cell_type": "code",
      "source": [
        "!wget http://hgdownload.cse.ucsc.edu/goldenPath/hg19/encodeDCC/wgEncodeBroadHistone/wgEncodeBroadHistoneK562H3k4me1StdAlnRep1.bam -O K562_H3k4me1.bam"
      ],
      "metadata": {
        "colab": {
          "base_uri": "https://localhost:8080/"
        },
        "id": "hMrRtPDa_iKO",
        "outputId": "86e8c07a-afe8-4fb4-c87c-3882e5a9732f"
      },
      "execution_count": 11,
      "outputs": [
        {
          "output_type": "stream",
          "name": "stdout",
          "text": [
            "--2022-03-25 08:07:46--  http://hgdownload.cse.ucsc.edu/goldenPath/hg19/encodeDCC/wgEncodeBroadHistone/wgEncodeBroadHistoneK562H3k4me1StdAlnRep1.bam\n",
            "Resolving hgdownload.cse.ucsc.edu (hgdownload.cse.ucsc.edu)... 128.114.119.163\n",
            "Connecting to hgdownload.cse.ucsc.edu (hgdownload.cse.ucsc.edu)|128.114.119.163|:80... connected.\n",
            "HTTP request sent, awaiting response... 200 OK\n",
            "Length: 964104660 (919M) [application/octet-stream]\n",
            "Saving to: ‘K562_H3k4me1.bam’\n",
            "\n",
            "K562_H3k4me1.bam    100%[===================>] 919.44M  40.2MB/s    in 24s     \n",
            "\n",
            "2022-03-25 08:08:10 (38.6 MB/s) - ‘K562_H3k4me1.bam’ saved [964104660/964104660]\n",
            "\n"
          ]
        }
      ]
    },
    {
      "cell_type": "code",
      "source": [
        "!wget http://hgdownload.cse.ucsc.edu/goldenPath/hg19/encodeDCC/wgEncodeBroadHistone/wgEncodeBroadHistoneK562H3k4me2StdAlnRep1.bam -O K562_H3k4me2.bam"
      ],
      "metadata": {
        "colab": {
          "base_uri": "https://localhost:8080/"
        },
        "id": "susILp9r_jLN",
        "outputId": "d329ef3a-c512-43fc-af81-80f5bb947c8b"
      },
      "execution_count": 12,
      "outputs": [
        {
          "output_type": "stream",
          "name": "stdout",
          "text": [
            "--2022-03-25 08:08:10--  http://hgdownload.cse.ucsc.edu/goldenPath/hg19/encodeDCC/wgEncodeBroadHistone/wgEncodeBroadHistoneK562H3k4me2StdAlnRep1.bam\n",
            "Resolving hgdownload.cse.ucsc.edu (hgdownload.cse.ucsc.edu)... 128.114.119.163\n",
            "Connecting to hgdownload.cse.ucsc.edu (hgdownload.cse.ucsc.edu)|128.114.119.163|:80... connected.\n",
            "HTTP request sent, awaiting response... 200 OK\n",
            "Length: 615439895 (587M) [application/octet-stream]\n",
            "Saving to: ‘K562_H3k4me2.bam’\n",
            "\n",
            "K562_H3k4me2.bam    100%[===================>] 586.93M  35.9MB/s    in 16s     \n",
            "\n",
            "2022-03-25 08:08:26 (36.0 MB/s) - ‘K562_H3k4me2.bam’ saved [615439895/615439895]\n",
            "\n"
          ]
        }
      ]
    },
    {
      "cell_type": "code",
      "source": [
        "!wget http://hgdownload.cse.ucsc.edu/goldenPath/hg19/encodeDCC/wgEncodeBroadHistone/wgEncodeBroadHistoneK562H3k4me3StdAlnRep1.bam -O K562_H3k4me3.bam"
      ],
      "metadata": {
        "colab": {
          "base_uri": "https://localhost:8080/"
        },
        "id": "DdIhyHIS_jT3",
        "outputId": "a73d30ef-c8a4-48c3-c73a-aa68233f4d80"
      },
      "execution_count": 18,
      "outputs": [
        {
          "output_type": "stream",
          "name": "stdout",
          "text": [
            "--2022-03-25 08:10:29--  http://hgdownload.cse.ucsc.edu/goldenPath/hg19/encodeDCC/wgEncodeBroadHistone/wgEncodeBroadHistoneK562H3k4me3StdAlnRep1.bam\n",
            "Resolving hgdownload.cse.ucsc.edu (hgdownload.cse.ucsc.edu)... 128.114.119.163\n",
            "Connecting to hgdownload.cse.ucsc.edu (hgdownload.cse.ucsc.edu)|128.114.119.163|:80... connected.\n",
            "HTTP request sent, awaiting response... 200 OK\n",
            "Length: 404100446 (385M) [application/octet-stream]\n",
            "Saving to: ‘K562_H3k4me3.bam’\n",
            "\n",
            "K562_H3k4me3.bam    100%[===================>] 385.38M  37.6MB/s    in 11s     \n",
            "\n",
            "2022-03-25 08:10:40 (36.0 MB/s) - ‘K562_H3k4me3.bam’ saved [404100446/404100446]\n",
            "\n"
          ]
        }
      ]
    },
    {
      "cell_type": "code",
      "source": [
        "!wget http://hgdownload.cse.ucsc.edu/goldenPath/hg19/encodeDCC/wgEncodeBroadHistone/wgEncodeBroadHistoneK562H3k79me2StdAlnRep1.bam -O K562_H3k79me2.bam"
      ],
      "metadata": {
        "colab": {
          "base_uri": "https://localhost:8080/"
        },
        "id": "iE9JGrII_jcC",
        "outputId": "21626c44-3ee8-42ee-8625-74480915a91e"
      },
      "execution_count": 14,
      "outputs": [
        {
          "output_type": "stream",
          "name": "stdout",
          "text": [
            "--2022-03-25 08:08:27--  http://hgdownload.cse.ucsc.edu/goldenPath/hg19/encodeDCC/wgEncodeBroadHistone/wgEncodeBroadHistoneK562H3k79me2StdAlnRep1.bam\n",
            "Resolving hgdownload.cse.ucsc.edu (hgdownload.cse.ucsc.edu)... 128.114.119.163\n",
            "Connecting to hgdownload.cse.ucsc.edu (hgdownload.cse.ucsc.edu)|128.114.119.163|:80... connected.\n",
            "HTTP request sent, awaiting response... 200 OK\n",
            "Length: 1056739485 (1008M) [application/octet-stream]\n",
            "Saving to: ‘K562_H3k79me2.bam’\n",
            "\n",
            "K562_H3k79me2.bam   100%[===================>]   1008M  40.0MB/s    in 26s     \n",
            "\n",
            "2022-03-25 08:08:53 (38.4 MB/s) - ‘K562_H3k79me2.bam’ saved [1056739485/1056739485]\n",
            "\n"
          ]
        }
      ]
    },
    {
      "cell_type": "code",
      "source": [
        "!wget http://hgdownload.cse.ucsc.edu/goldenPath/hg19/encodeDCC/wgEncodeBroadHistone/wgEncodeBroadHistoneK562H3k9acStdAlnRep1.bam -O K562_H3k9ac.bam"
      ],
      "metadata": {
        "colab": {
          "base_uri": "https://localhost:8080/"
        },
        "id": "A3OqCmaC_jjF",
        "outputId": "e301fec0-4f27-4aaf-f062-70b5059c4a81"
      },
      "execution_count": 15,
      "outputs": [
        {
          "output_type": "stream",
          "name": "stdout",
          "text": [
            "--2022-03-25 08:08:54--  http://hgdownload.cse.ucsc.edu/goldenPath/hg19/encodeDCC/wgEncodeBroadHistone/wgEncodeBroadHistoneK562H3k9acStdAlnRep1.bam\n",
            "Resolving hgdownload.cse.ucsc.edu (hgdownload.cse.ucsc.edu)... 128.114.119.163\n",
            "Connecting to hgdownload.cse.ucsc.edu (hgdownload.cse.ucsc.edu)|128.114.119.163|:80... connected.\n",
            "HTTP request sent, awaiting response... 200 OK\n",
            "Length: 704587105 (672M) [application/octet-stream]\n",
            "Saving to: ‘K562_H3k9ac.bam’\n",
            "\n",
            "K562_H3k9ac.bam     100%[===================>] 671.95M  40.6MB/s    in 18s     \n",
            "\n",
            "2022-03-25 08:09:12 (36.6 MB/s) - ‘K562_H3k9ac.bam’ saved [704587105/704587105]\n",
            "\n"
          ]
        }
      ]
    },
    {
      "cell_type": "code",
      "source": [
        "!wget http://hgdownload.cse.ucsc.edu/goldenPath/hg19/encodeDCC/wgEncodeBroadHistone/wgEncodeBroadHistoneK562H3k9me1StdAlnRep1.bam -O K562_H3k9me1.bam"
      ],
      "metadata": {
        "colab": {
          "base_uri": "https://localhost:8080/"
        },
        "id": "VG_XUCS9_jq3",
        "outputId": "9f17f843-f51c-49d2-a6b8-9601749071d0"
      },
      "execution_count": 19,
      "outputs": [
        {
          "output_type": "stream",
          "name": "stdout",
          "text": [
            "--2022-03-25 08:11:12--  http://hgdownload.cse.ucsc.edu/goldenPath/hg19/encodeDCC/wgEncodeBroadHistone/wgEncodeBroadHistoneK562H3k9me1StdAlnRep1.bam\n",
            "Resolving hgdownload.cse.ucsc.edu (hgdownload.cse.ucsc.edu)... 128.114.119.163\n",
            "Connecting to hgdownload.cse.ucsc.edu (hgdownload.cse.ucsc.edu)|128.114.119.163|:80... connected.\n",
            "HTTP request sent, awaiting response... 200 OK\n",
            "Length: 1379054837 (1.3G) [application/octet-stream]\n",
            "Saving to: ‘K562_H3k9me1.bam’\n",
            "\n",
            "K562_H3k9me1.bam    100%[===================>]   1.28G  37.9MB/s    in 35s     \n",
            "\n",
            "2022-03-25 08:11:48 (37.4 MB/s) - ‘K562_H3k9me1.bam’ saved [1379054837/1379054837]\n",
            "\n"
          ]
        }
      ]
    },
    {
      "cell_type": "markdown",
      "source": [
        "* Вручную создаем текстовый файл cellmarkfiletable.txt, в котором указываем название типа клеток, разных гистоновых меток, а также соответствующие .bam файлы для эксперимента и контроля. Один и тот же контрольный файл .bam может быть использован для всех экспериментов.\n",
        "\n",
        "* Более подробно о содержании файла cellmarkfiletable.txt можно посмотреть в руководстве пользователя ChromHMM\n",
        "\n",
        "* Файл cellmarkfiletable.txt добавляем в github репозиторий для отчета"
      ],
      "metadata": {
        "id": "asjMJ26h79SY"
      }
    },
    {
      "cell_type": "markdown",
      "source": [
        "Запускаем ChromHMM с опцией BinarizeBam, чтобы конвертировать профили из ChIP-seq экспериментов (bam-файлы) в табличку из 0 и 1, т.е. чтобы сделать разбивку генома на условные интервалы (бины) длиной 200 п.о.\n",
        "Для 11 меток программа работает около 5 мин\n"
      ],
      "metadata": {
        "id": "WeoRL3rp728b"
      }
    },
    {
      "cell_type": "code",
      "source": [
        "!wget https://raw.githubusercontent.com/netwasted/hse_hw3_chromhmm/main/cellmarkfiletable.txt"
      ],
      "metadata": {
        "colab": {
          "base_uri": "https://localhost:8080/"
        },
        "id": "IQSHUjtpI1YZ",
        "outputId": "5758cff0-74ed-472b-ca1a-de7ab11b2708"
      },
      "execution_count": 20,
      "outputs": [
        {
          "output_type": "stream",
          "name": "stdout",
          "text": [
            "--2022-03-25 08:14:13--  https://raw.githubusercontent.com/netwasted/hse_hw3_chromhmm/main/cellmarkfiletable.txt\n",
            "Resolving raw.githubusercontent.com (raw.githubusercontent.com)... 185.199.108.133, 185.199.110.133, 185.199.109.133, ...\n",
            "Connecting to raw.githubusercontent.com (raw.githubusercontent.com)|185.199.108.133|:443... connected.\n",
            "HTTP request sent, awaiting response... 200 OK\n",
            "Length: 476 [text/plain]\n",
            "Saving to: ‘cellmarkfiletable.txt’\n",
            "\n",
            "\rcellmarkfiletable.t   0%[                    ]       0  --.-KB/s               \rcellmarkfiletable.t 100%[===================>]     476  --.-KB/s    in 0s      \n",
            "\n",
            "2022-03-25 08:14:13 (22.1 MB/s) - ‘cellmarkfiletable.txt’ saved [476/476]\n",
            "\n"
          ]
        }
      ]
    },
    {
      "cell_type": "code",
      "source": [
        "!java -mx5000M -jar /content/ChromHMM/ChromHMM.jar BinarizeBam -b 200  /content/ChromHMM/CHROMSIZES/hg19.txt /content/ cellmarkfiletable.txt   binarizedData\n"
      ],
      "metadata": {
        "colab": {
          "base_uri": "https://localhost:8080/"
        },
        "id": "GcVBvuQZfzb8",
        "outputId": "3eff0c35-f00b-4d96-bb55-586f03fba9db"
      },
      "execution_count": 21,
      "outputs": [
        {
          "output_type": "stream",
          "name": "stdout",
          "text": [
            "Writing to file binarizedData/K562_chr1_binary.txt\n",
            "Writing to file binarizedData/K562_chr2_binary.txt\n",
            "Writing to file binarizedData/K562_chr3_binary.txt\n",
            "Writing to file binarizedData/K562_chr4_binary.txt\n",
            "Writing to file binarizedData/K562_chr5_binary.txt\n",
            "Writing to file binarizedData/K562_chr6_binary.txt\n",
            "Writing to file binarizedData/K562_chr7_binary.txt\n",
            "Writing to file binarizedData/K562_chrX_binary.txt\n",
            "Writing to file binarizedData/K562_chr8_binary.txt\n",
            "Writing to file binarizedData/K562_chr9_binary.txt\n",
            "Writing to file binarizedData/K562_chr10_binary.txt\n",
            "Writing to file binarizedData/K562_chr11_binary.txt\n",
            "Writing to file binarizedData/K562_chr12_binary.txt\n",
            "Writing to file binarizedData/K562_chr13_binary.txt\n",
            "Writing to file binarizedData/K562_chr14_binary.txt\n",
            "Writing to file binarizedData/K562_chr15_binary.txt\n",
            "Writing to file binarizedData/K562_chr16_binary.txt\n",
            "Writing to file binarizedData/K562_chr17_binary.txt\n",
            "Writing to file binarizedData/K562_chr18_binary.txt\n",
            "Writing to file binarizedData/K562_chr20_binary.txt\n",
            "Writing to file binarizedData/K562_chr19_binary.txt\n",
            "Writing to file binarizedData/K562_chr22_binary.txt\n",
            "Writing to file binarizedData/K562_chr21_binary.txt\n",
            "Writing to file binarizedData/K562_chrM_binary.txt\n"
          ]
        }
      ]
    },
    {
      "cell_type": "markdown",
      "source": [
        "Запускаем ChromHMM с опцией LearnModel (см. руководство пользователя), которая автоматически определит параметры N разных эпигенетических типов с наиболее выраженными наборами гистоновых меток и присвоит каждому геномному интервалу определенный эпигенетический тип. Количество разных эпигенетических типов (или состояний) выбираете сами (например 10 штук).\n",
        "Не забудьте, что мы работаем с версией референсного генома человека hg19\n",
        "Для 11 меток программа работает около 10 минут\n"
      ],
      "metadata": {
        "id": "Yo11TtNG8SXU"
      }
    },
    {
      "cell_type": "code",
      "source": [
        "!java -mx5000M -jar /content/ChromHMM/ChromHMM.jar LearnModel -b 200 binarizedData LearnModel_output 10 hg19"
      ],
      "metadata": {
        "colab": {
          "base_uri": "https://localhost:8080/"
        },
        "id": "wXy8tnaIIZtz",
        "outputId": "d4dba12a-b6a8-4b59-99fd-6f2611bfc450"
      },
      "execution_count": 22,
      "outputs": [
        {
          "output_type": "stream",
          "name": "stdout",
          "text": [
            "Writing to file LearnModel_output/transitions_10.txt\n",
            "Writing to file LearnModel_output/emissions_10.txt\n",
            "Writing to file LearnModel_output/emissions_10.svg\n",
            "Writing to file LearnModel_output/emissions_10.png\n",
            "Writing to file LearnModel_output/transitions_10.png\n",
            "Writing to file LearnModel_output/transitions_10.svg\n",
            "Writing to file LearnModel_output/model_10.txt\n",
            " Iteration  Estimated Log Likelihood     Change    Total Time (secs)\n",
            "         1              -9223422.752          -                 16.2\n",
            "         2              -7938310.808 1285111.944                 30.5\n",
            "         3              -7626825.751 311485.057                 41.9\n",
            "         4              -7474510.772 152314.979                 52.8\n",
            "         5              -7389051.293  85459.479                 63.5\n",
            "         6              -7338583.618  50467.675                 74.0\n",
            "         7              -7308126.743  30456.875                 84.4\n",
            "         8              -7289392.905  18733.838                 98.3\n",
            "         9              -7277354.863  12038.042                108.4\n",
            "        10              -7269250.807   8104.056                118.8\n",
            "        11              -7263535.836   5714.971                128.8\n",
            "        12              -7259258.962   4276.875                138.7\n",
            "        13              -7255787.452   3471.510                148.8\n",
            "        14              -7252622.359   3165.092                164.0\n",
            "        15              -7249211.838   3410.522                174.8\n",
            "        16              -7244762.604   4449.234                185.7\n",
            "        17              -7238376.814   6385.790                196.5\n",
            "        18              -7230196.894   8179.920                207.3\n",
            "        19              -7222264.080   7932.814                218.3\n",
            "        20              -7216623.292   5640.788                229.2\n",
            "        21              -7213482.772   3140.520                240.2\n",
            "        22              -7211959.324   1523.448                251.2\n",
            "        23              -7211245.382    713.943                262.2\n",
            "        24              -7210897.155    348.226                273.2\n",
            "        25              -7210713.298    183.857                284.1\n",
            "        26              -7210607.437    105.861                294.9\n",
            "        27              -7210541.816     65.621                305.7\n",
            "        28              -7210498.856     42.960                316.6\n",
            "        29              -7210469.651     29.205                327.5\n",
            "        30              -7210449.282     20.369                338.5\n",
            "        31              -7210434.822     14.460                349.5\n",
            "        32              -7210424.425     10.397                360.5\n",
            "        33              -7210416.877      7.549                371.4\n",
            "        34              -7210411.354      5.523                382.4\n",
            "        35              -7210407.286      4.068                393.3\n",
            "        36              -7210404.273      3.013                404.3\n",
            "        37              -7210402.029      2.244                415.3\n",
            "        38              -7210400.350      1.679                426.4\n",
            "        39              -7210399.086      1.263                437.6\n",
            "        40              -7210398.131      0.955                448.7\n",
            "        41              -7210397.393      0.738                460.1\n",
            "        42              -7210396.841      0.552                471.3\n",
            "        43              -7210396.413      0.428                482.3\n",
            "        44              -7210396.080      0.333                493.4\n",
            "        45              -7210395.818      0.262                504.3\n",
            "        46              -7210395.611      0.208                515.2\n",
            "        47              -7210395.445      0.166                526.5\n",
            "        48              -7210395.312      0.133                537.6\n",
            "        49              -7210395.204      0.107                548.8\n",
            "        50              -7210395.118      0.087                560.0\n",
            "        51              -7210395.048      0.069                571.1\n",
            "        52              -7210394.993      0.055                582.2\n",
            "        53              -7210394.950      0.043                593.4\n",
            "        54              -7210394.917      0.033                604.2\n",
            "        55              -7210394.892      0.025                615.3\n",
            "        56              -7210394.874      0.018                626.3\n",
            "        57              -7210394.861      0.013                637.3\n",
            "        58              -7210394.852      0.009                648.2\n",
            "        59              -7210394.846      0.006                658.9\n",
            "        60              -7210394.843      0.003                669.6\n",
            "        61              -7210394.841      0.002                680.5\n",
            "        62              -7210394.841      0.000                691.4\n",
            "Writing to file LearnModel_output/K562_10_segments.bed\n",
            "Writing to file LearnModel_output/K562_10_dense.bed\n",
            "Writing to file LearnModel_output/K562_10_expanded.bed\n",
            "Writing to file LearnModel_output/K562_10_overlap.txt\n",
            "Writing to file LearnModel_output/K562_10_overlap.png\n",
            "Writing to file LearnModel_output/K562_10_overlap.svg\n",
            "Writing to file LearnModel_output/K562_10_RefSeqTSS_neighborhood.txt\n",
            "Writing to file LearnModel_output/K562_10_RefSeqTSS_neighborhood.png\n",
            "Writing to file LearnModel_output/K562_10_RefSeqTSS_neighborhood.svg\n",
            "Writing to file LearnModel_output/K562_10_RefSeqTES_neighborhood.txt\n",
            "Writing to file LearnModel_output/K562_10_RefSeqTES_neighborhood.png\n",
            "Writing to file LearnModel_output/K562_10_RefSeqTES_neighborhood.svg\n",
            "Warning could not automatically open in a browser LearnModel_output/webpage_10.html\n"
          ]
        }
      ]
    },
    {
      "cell_type": "code",
      "source": [
        "!zip -r LearnModel_output.zip LearnModel_output/"
      ],
      "metadata": {
        "colab": {
          "base_uri": "https://localhost:8080/"
        },
        "id": "icYiVXEkQQv9",
        "outputId": "06282042-93cd-42b6-e3fc-5ebce5fb4877"
      },
      "execution_count": 23,
      "outputs": [
        {
          "output_type": "stream",
          "name": "stdout",
          "text": [
            "  adding: LearnModel_output/ (stored 0%)\n",
            "  adding: LearnModel_output/K562_10_RefSeqTES_neighborhood.svg (deflated 73%)\n",
            "  adding: LearnModel_output/emissions_10.png (deflated 20%)\n",
            "  adding: LearnModel_output/K562_10_overlap.txt (deflated 47%)\n",
            "  adding: LearnModel_output/K562_10_segments.bed (deflated 80%)\n",
            "  adding: LearnModel_output/K562_10_dense.bed (deflated 84%)\n",
            "  adding: LearnModel_output/K562_10_RefSeqTES_neighborhood.txt (deflated 56%)\n",
            "  adding: LearnModel_output/K562_10_expanded.bed (deflated 70%)\n",
            "  adding: LearnModel_output/webpage_10.html (deflated 71%)\n",
            "  adding: LearnModel_output/emissions_10.txt (deflated 49%)\n",
            "  adding: LearnModel_output/transitions_10.txt (deflated 49%)\n",
            "  adding: LearnModel_output/transitions_10.svg (deflated 68%)\n",
            "  adding: LearnModel_output/K562_10_RefSeqTSS_neighborhood.txt (deflated 52%)\n",
            "  adding: LearnModel_output/K562_10_RefSeqTSS_neighborhood.png (deflated 33%)\n",
            "  adding: LearnModel_output/K562_10_overlap.png (deflated 19%)\n",
            "  adding: LearnModel_output/model_10.txt (deflated 70%)\n",
            "  adding: LearnModel_output/emissions_10.svg (deflated 70%)\n",
            "  adding: LearnModel_output/K562_10_overlap.svg (deflated 70%)\n",
            "  adding: LearnModel_output/K562_10_RefSeqTES_neighborhood.png (deflated 35%)\n",
            "  adding: LearnModel_output/transitions_10.png (deflated 16%)\n",
            "  adding: LearnModel_output/K562_10_RefSeqTSS_neighborhood.svg (deflated 73%)\n"
          ]
        }
      ]
    },
    {
      "cell_type": "markdown",
      "source": [
        "В результате выполнения команды LearnModel будет создан набор файлов (в том числе HTML страничка) в папке выдачи, которая была указана при запуске. Скачиваем эту папку себе на копьютер и открываем HTML файл.\n",
        "\n",
        "Дальнейшие инстркции -- см. в описании ДЗ"
      ],
      "metadata": {
        "id": "7yuCmmw-gsFC"
      }
    }
  ]
}